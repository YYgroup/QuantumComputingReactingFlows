{
 "cells": [
  {
   "cell_type": "markdown",
   "id": "495f473e",
   "metadata": {},
   "source": [
    "# Solve the discretized linear convection equation with periodic boundary condition\n",
    "\n",
    "The linear convection equation\n",
    "$$\n",
    "    \\partial_t u + c \\partial_x u = 0\n",
    "$$\n",
    "can be discretized, yielding\n",
    "$$\n",
    "    \\partial_t u + A u = 0.\n",
    "$$\n",
    "\n",
    "For the linear convection equation with periodic boundary condition, discretized using the central scheme\n",
    "$$\n",
    "A = \n",
    "\\dfrac{c}{2\\Delta x}\n",
    "\\begin{bmatrix}\n",
    "0  & 1 &   & & -1 \\\\\n",
    "-1 & 0 & 1 & & \\\\\n",
    "   & \\ddots & \\ddots & \\ddots & \\\\\n",
    "   & & -1 & 0 & 1 \\\\\n",
    "1  & & & -1 & 0\n",
    "\\end{bmatrix}.\n",
    "$$\n",
    "\n",
    "When using the upwind scheme\n",
    "$$\n",
    "A = \n",
    "\\dfrac{c}{\\Delta x}\n",
    "\\begin{bmatrix}\n",
    "1  &   &  & & -1 \\\\\n",
    "-1 & 1 &  & & \\\\\n",
    "   & \\ddots & \\ddots & & \\\\\n",
    "   & & -1 & 1 &  \\\\\n",
    "   & & & -1 & 1\n",
    "\\end{bmatrix}.\n",
    "$$\n",
    "\n"
   ]
  },
  {
   "cell_type": "code",
   "execution_count": 18,
   "id": "5314727e-1da3-4c51-95eb-36fd8a7505b9",
   "metadata": {},
   "outputs": [],
   "source": [
    "import numpy as np\n",
    "from scipy.integrate import solve_ivp\n",
    "import pyutils as pu"
   ]
  },
  {
   "cell_type": "markdown",
   "id": "f15d9f21",
   "metadata": {},
   "source": [
    "## Timestep and Grids\n",
    "\n",
    "$N = 2^{n}$"
   ]
  },
  {
   "cell_type": "code",
   "execution_count": 19,
   "id": "93515c68-9288-4362-81fb-1bfbd28c9521",
   "metadata": {},
   "outputs": [],
   "source": [
    "C = 10\n",
    "D = 0.5\n",
    "S = -1\n",
    "\n",
    "# timestep\n",
    "t = 2\n",
    "\n",
    "# number of qubits for u\n",
    "nqu = 8\n",
    "nx = 2**nqu"
   ]
  },
  {
   "cell_type": "markdown",
   "id": "172a78b7",
   "metadata": {},
   "source": [
    "## Initialization"
   ]
  },
  {
   "cell_type": "code",
   "execution_count": 20,
   "metadata": {},
   "outputs": [],
   "source": [
    "L = 30\n",
    "\n",
    "## nx\n",
    "# Initialization\n",
    "x = np.linspace(-L/2, L/2, num=nx, endpoint=False)\n",
    "\n",
    "dx = L/nx\n",
    "\n",
    "# Gaussian\n",
    "#sigma = np.sqrt(1/2)\n",
    "#mu = 0\n",
    "#g = 1/sigma/np.sqrt(2.*np.pi) * np.exp(-np.square(x-mu)/(2*np.square(sigma)))\n",
    "\n",
    "sigma = np.sqrt(1/2)\n",
    "mu = -10\n",
    "g = np.exp(-np.square(x-mu))\n",
    "\n",
    "for i, v in enumerate(g):\n",
    "    if np.abs(x[i] - mu) > 5*sigma:\n",
    "        g[i] = 0\n",
    "\n",
    "#g = np.exp(-np.square(x))\n",
    "\n",
    "u_init = g"
   ]
  },
  {
   "cell_type": "markdown",
   "metadata": {},
   "source": [
    "### Convection, central difference scheme with left inlet\n",
    "\n",
    "$2^n$ points\n",
    "\n",
    "$$\n",
    "    \\bm{A} = \n",
    "    \\dfrac{c}{2\\Delta x}\n",
    "    \\begin{bmatrix}\n",
    "    0  & 1 &   & & -1 \\\\\n",
    "    -1 & 0 & 1 & & \\\\\n",
    "       & \\ddots & \\ddots & \\ddots & \\\\\n",
    "       & & -1 & 0 & 1 \\\\\n",
    "    1  & & & -1 & 0\n",
    "    \\end{bmatrix}.\n",
    "$$"
   ]
  },
  {
   "cell_type": "code",
   "execution_count": 21,
   "metadata": {},
   "outputs": [],
   "source": [
    "AC = np.zeros((nx, nx))\n",
    "for i in range(nx-1):\n",
    "    AC[i,i+1] = 1\n",
    "    AC[i+1,i] = -1\n",
    "AC[0,-1] = -1\n",
    "AC[-1,0] = 1\n",
    "AC = AC * C / (2*dx)"
   ]
  },
  {
   "cell_type": "markdown",
   "metadata": {},
   "source": [
    "### Diffusion, central difference scheme\n",
    "\n",
    "$2^n$ points\n",
    "\n",
    "$$\n",
    "    \\bm{A} = \n",
    "    \\dfrac{D}{\\Delta x^2}\n",
    "    \\begin{bmatrix}\n",
    "    2  & -1 &   & & -1 \\\\\n",
    "    -1 & 2 & -1 & &   \\\\\n",
    "       & \\ddots & \\ddots & \\ddots & \\\\\n",
    "       & & -1 & 2 & -1 \\\\\n",
    "    -1 & & & -1 & 2  \\\\\n",
    "    \\end{bmatrix}.\n",
    "$$"
   ]
  },
  {
   "cell_type": "code",
   "execution_count": 22,
   "metadata": {},
   "outputs": [],
   "source": [
    "AD = np.zeros((nx, nx))\n",
    "for i in range(nx-1):\n",
    "    AD[i,i+1] = -1\n",
    "    AD[i+1,i] = -1\n",
    "    AD[i,i] = 2\n",
    "AD[-1,-1] = 2\n",
    "AD[0,-1] = -1\n",
    "AD[-1,0] = -1\n",
    "AD = AD * D / np.square(dx)"
   ]
  },
  {
   "cell_type": "markdown",
   "metadata": {},
   "source": [
    "### Reaction"
   ]
  },
  {
   "cell_type": "code",
   "execution_count": 23,
   "metadata": {},
   "outputs": [],
   "source": [
    "AS = np.eye(nx)\n",
    "AS *= -S"
   ]
  },
  {
   "cell_type": "code",
   "execution_count": 24,
   "metadata": {},
   "outputs": [],
   "source": [
    "A = AC + AD + AS\n",
    "#A = AD\n",
    "\n",
    "def source(t, y):\n",
    "    return np.matmul(-A, y)"
   ]
  },
  {
   "cell_type": "markdown",
   "id": "c0c3b8a2",
   "metadata": {},
   "source": [
    "## Run"
   ]
  },
  {
   "cell_type": "code",
   "execution_count": 25,
   "id": "6667b796",
   "metadata": {},
   "outputs": [
    {
     "name": "stdout",
     "output_type": "stream",
     "text": [
      "0.0011718750000000002\n"
     ]
    }
   ],
   "source": [
    "tnow = 0\n",
    "u = u_init.copy()\n",
    "\n",
    "itC = C / dx\n",
    "itD = D / np.square(dx)\n",
    "dt = 0.1 / max(itC, itD)\n",
    "print(dt)\n",
    "\n",
    "while(tnow < t):\n",
    "\n",
    "    if t - tnow < dt:\n",
    "        dt = t - tnow\n",
    "\n",
    "    du = np.matmul(-A*dt, u)\n",
    "\n",
    "    u += du\n",
    "\n",
    "    tnow += dt"
   ]
  },
  {
   "cell_type": "code",
   "execution_count": 26,
   "metadata": {},
   "outputs": [],
   "source": [
    "sol = solve_ivp(source, [0, t], u_init, method='RK23', t_eval=np.linspace(0, t, num=21))"
   ]
  },
  {
   "cell_type": "markdown",
   "id": "c10afc42",
   "metadata": {},
   "source": [
    "## Plot"
   ]
  },
  {
   "cell_type": "code",
   "execution_count": 35,
   "id": "d254aba9-4401-4d5b-852e-8e54db9e8188",
   "metadata": {},
   "outputs": [
    {
     "data": {
      "text/plain": [
       "<matplotlib.legend.Legend at 0x13c2654d0>"
      ]
     },
     "execution_count": 35,
     "metadata": {},
     "output_type": "execute_result"
    },
    {
     "data": {
      "image/png": "[encoded data removed]",
      "text/plain": [
       "<Figure size 354.331x317.717 with 1 Axes>"
      ]
     },
     "metadata": {},
     "output_type": "display_data"
    }
   ],
   "source": [
    "pc = pu.fig.PlotConfig()\n",
    "\n",
    "fig, ax = pc.get_simple()\n",
    "\n",
    "#ax.plot(x, u_init, '-k', label='t=0')\n",
    "\n",
    "#ax.plot(x, u, '--r', label='Classical')\n",
    "\n",
    "for i in range(0,5):\n",
    "\n",
    "    time = sol.t[5*i]\n",
    "\n",
    "    ut = np.exp(-np.square(x-mu-C*time)/(1+4*D*time)) / np.sqrt(1+4*D*time) * np.exp(S*time)\n",
    "    ax.plot(x, ut, '-k', label = 'Analytic')\n",
    "\n",
    "    ax.plot(x, sol.y[:,5*i], '-.b', label='$t=${:g}'.format(time))\n",
    "\n",
    "ax.legend(frameon=False)"
   ]
  },
  {
   "cell_type": "code",
   "execution_count": 34,
   "metadata": {},
   "outputs": [],
   "source": [
    "np.savez('1DPeriodicDiscretizedFiniteDifferenceC{:g}D{:g}S{:g}L{:g}nx{:g}'.format(C,D,S,L,nqu),\n",
    "         x = x, t = sol.t, y = sol.y)"
   ]
  }
 ],
 "metadata": {
  "kernelspec": {
   "display_name": "Python 3 (ipykernel)",
   "language": "python",
   "name": "python3"
  },
  "language_info": {
   "codemirror_mode": {
    "name": "ipython",
    "version": 3
   },
   "file_extension": ".py",
   "mimetype": "text/x-python",
   "name": "python",
   "nbconvert_exporter": "python",
   "pygments_lexer": "ipython3",
   "version": "3.11.5"
  }
 },
 "nbformat": 4,
 "nbformat_minor": 5
}

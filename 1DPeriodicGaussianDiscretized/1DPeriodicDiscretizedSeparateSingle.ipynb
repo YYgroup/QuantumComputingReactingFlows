{
 "cells": [
  {
   "cell_type": "markdown",
   "id": "495f473e",
   "metadata": {},
   "source": [
    "# Solve the discretized 1D linear convection equation with periodic boundary condition\n",
    "\n",
    "The linear convection equation\n",
    "$$\n",
    "    \\partial_t u + c \\partial_x u = D \\partial_{xx} u + S u\n",
    "$$\n",
    "can be discretized, yielding\n",
    "$$\n",
    "    \\partial_t u + A u = 0.\n",
    "$$\n",
    "$A$ can be decomposed as\n",
    "$$\n",
    "    A = H_1+i H_2,\n",
    "$$\n",
    "where\n",
    "$$\n",
    "    H_1 = \\dfrac{A+A^\\dagger}{2} \\;\\mathrm{and}\\; H_2 = \\dfrac{A-A^\\dagger}{2i}.\n",
    "$$\n",
    "Then\n",
    "$$\n",
    "    \\partial_t u + H_1 u + i H_2 u = 0.\n",
    "$$\n",
    "Employ the warp transform\n",
    "$$\n",
    "    w(x,y,t) = e^{-y}u(x,t), \\; y>0.\n",
    "$$\n",
    "We have\n",
    "$$\n",
    "    \\partial_t w - H_1 \\partial_y w + i H_2 w = 0.\n",
    "$$\n",
    "Fourier transform $\\tilde{w} = \\mathcal{F}_y[w]$\n",
    "yields\n",
    "$$\n",
    "    \\partial_t \\tilde{w} + i k_y H_1 \\tilde{w} + i H_2 \\tilde{w} = 0\n",
    "$$\n",
    "\n",
    "For the linear convection equation with the inlet boundary condition at LHS, discretized using the central scheme\n",
    "$$\n",
    "    \\partial_t \\bm{u} + \\bm{A} \\bm{u} + \\bm{b} = 0,\n",
    "$$\n",
    "\n",
    "Define\n",
    "$$\n",
    "\\tilde{\\bm{u}} = \\begin{bmatrix} \\bm{u} \\\\ v \\end{bmatrix}\n",
    "$$\n",
    "where $v(t)=1$.\n",
    "The discretized equation becomes\n",
    "$$\n",
    "    \\partial_t \\tilde{\\bm{u}} + \\tilde{\\bm{A}} \\tilde{\\bm{u}} = 0,\n",
    "$$\n",
    "with\n",
    "$$\n",
    "    \\tilde{\\bm{A}} =\n",
    "    \\begin{bmatrix}\n",
    "    \\bm{A} & \\bm{b} \\\\\n",
    "    \\bm{0} & 0 \\\\\n",
    "    \\end{bmatrix}\n",
    "$$\n",
    "\n",
    "### Fourier transform\n",
    "\n",
    "QFT has\n",
    "$$\n",
    "    y[k] = \\sum x[n] e^{i2\\pi kn}\n",
    "$$\n",
    "\n",
    "DFT has\n",
    "$$\n",
    "    y[k] = \\sum x[n] e^{-2i\\pi kn}\n",
    "$$"
   ]
  },
  {
   "cell_type": "code",
   "execution_count": 1,
   "id": "5314727e-1da3-4c51-95eb-36fd8a7505b9",
   "metadata": {},
   "outputs": [],
   "source": [
    "import numpy as np\n",
    "from scipy import fft, special\n",
    "from scipy.linalg import expm, eig\n",
    "import matplotlib.pyplot as plt\n",
    "from qiskit import QuantumCircuit, ClassicalRegister, QuantumRegister\n",
    "from qiskit import Aer\n",
    "from qiskit.compiler import transpile\n",
    "from qiskit.quantum_info import Operator, state_fidelity\n",
    "from qiskit.circuit.library import QFT\n",
    "from pyutils import fig"
   ]
  },
  {
   "cell_type": "markdown",
   "id": "6d762e07",
   "metadata": {},
   "source": [
    "## Backend\n",
    "\n",
    "statevector_simulator"
   ]
  },
  {
   "cell_type": "code",
   "execution_count": 2,
   "id": "a17cc46a-c1eb-4a05-a6a1-5a4a1648f5c9",
   "metadata": {},
   "outputs": [],
   "source": [
    "backend = Aer.get_backend('statevector_simulator')"
   ]
  },
  {
   "cell_type": "markdown",
   "id": "f15d9f21",
   "metadata": {},
   "source": [
    "## Timestep and Grids\n",
    "\n",
    "$N = 2^{n}$"
   ]
  },
  {
   "cell_type": "code",
   "execution_count": 3,
   "id": "93515c68-9288-4362-81fb-1bfbd28c9521",
   "metadata": {},
   "outputs": [],
   "source": [
    "C = 10\n",
    "D = 0.5\n",
    "S = -1\n",
    "\n",
    "# timestep\n",
    "t = 2\n",
    "\n",
    "# number of qubits for u\n",
    "nqu = 8\n",
    "q_u = QuantumRegister(nqu, name='qu')\n",
    "nx = 2**nqu\n",
    "\n",
    "# number of qubits for v\n",
    "nqv = 8\n",
    "ny = 2**nqv"
   ]
  },
  {
   "cell_type": "markdown",
   "id": "172a78b7",
   "metadata": {},
   "source": [
    "## Initialization"
   ]
  },
  {
   "cell_type": "code",
   "execution_count": 4,
   "id": "849e5070",
   "metadata": {},
   "outputs": [
    {
     "data": {
      "text/plain": [
       "[<matplotlib.lines.Line2D at 0x141917e90>]"
      ]
     },
     "execution_count": 4,
     "metadata": {},
     "output_type": "execute_result"
    },
    {
     "data": {
      "image/png": "[encoded data removed]",
      "text/plain": [
       "<Figure size 640x480 with 1 Axes>"
      ]
     },
     "metadata": {},
     "output_type": "display_data"
    }
   ],
   "source": [
    "L = 30\n",
    "\n",
    "## nx\n",
    "# Initialization\n",
    "x = np.linspace(-L/2, L/2, num=nx, endpoint=False)\n",
    "\n",
    "dx = L / nx\n",
    "\n",
    "# Gaussian\n",
    "#sigma = 1\n",
    "#mu = -4\n",
    "#g = 1/sigma/np.sqrt(2.*np.pi) * np.exp(-np.square(x-mu)/(2*np.square(sigma)))\n",
    "\n",
    "sigma = np.sqrt(1/2)\n",
    "mu = -10\n",
    "g = np.exp(-np.square(x-mu))\n",
    "\n",
    "for i, v in enumerate(g):\n",
    "    if np.abs(x[i] - mu) > 5*sigma:\n",
    "        g[i] = 0\n",
    "\n",
    "u_init = g\n",
    "\n",
    "u_init_norm = np.sqrt(np.sum(np.square(u_init)))\n",
    "\n",
    "u0 = u_init / u_init_norm\n",
    "\n",
    "plt.plot(x,g)"
   ]
  },
  {
   "cell_type": "markdown",
   "metadata": {},
   "source": [
    "$$e^{-\\alpha\\lvert y\\rvert}$$"
   ]
  },
  {
   "cell_type": "code",
   "execution_count": 5,
   "id": "70683a65",
   "metadata": {},
   "outputs": [],
   "source": [
    "shift = 0\n",
    "alpha = 10\n",
    "bzone = 0\n",
    "wy = 8\n",
    "y = np.linspace(-np.pi*(wy/2+shift), np.pi*(wy/2-shift), num=ny, endpoint=False)\n",
    "\n",
    "bottom = np.exp(-np.pi*(wy/2-shift))\n",
    "\n",
    "v_init = np.zeros(ny)\n",
    "for i, vy in enumerate(y):\n",
    "    if vy < -np.pi*(wy/2+shift-bzone) or vy > np.pi*(wy/2-shift-bzone):\n",
    "        v_init[i] = 0\n",
    "    elif vy < - np.pi * shift :\n",
    "        tmp = np.exp(alpha*(vy+shift*(1+1/alpha)*np.pi))\n",
    "        if tmp < bottom :\n",
    "            tmp = bottom\n",
    "        v_init[i] = tmp\n",
    "    else:\n",
    "        v_init[i] = np.exp(-vy)\n",
    "\n",
    "v_init0 = np.zeros(ny)\n",
    "v_init0[:int(ny/2)] = np.exp(y[:int(ny/2)])\n",
    "v_init0[int(ny/2):] = np.exp(-y[int(ny/2):])\n",
    " \n",
    "fv = fft.fft(v_init, norm='forward')\n",
    "kv = fft.fftfreq(ny)*ny*2/wy"
   ]
  },
  {
   "cell_type": "code",
   "execution_count": 6,
   "metadata": {},
   "outputs": [
    {
     "data": {
      "text/plain": [
       "Text(0, 0.5, '$v(y)$')"
      ]
     },
     "execution_count": 6,
     "metadata": {},
     "output_type": "execute_result"
    },
    {
     "data": {
      "image/png": "[encoded data removed]",
      "text/plain": [
       "<Figure size 354.331x231.496 with 1 Axes>"
      ]
     },
     "metadata": {},
     "output_type": "display_data"
    }
   ],
   "source": [
    "pc = fig.PlotConfig(subplot_ratio=0.6)\n",
    "\n",
    "figure, ax = pc.get_simple()\n",
    "\n",
    "ax.semilogy(y, v_init)\n",
    "#ax.semilogy(y, v_init0)\n",
    "ax.plot([0, 0], [1e-6, 1e1], '-.k')\n",
    "ax.set_ylim([1e-6, 1e1])\n",
    "ax.set_xlabel('$y$')\n",
    "ax.set_ylabel('$v(y)$')\n",
    "\n",
    "#figure.savefig('v.png', dpi=400)"
   ]
  },
  {
   "cell_type": "markdown",
   "id": "f99d78c8",
   "metadata": {},
   "source": [
    "## Discretized matrix"
   ]
  },
  {
   "cell_type": "markdown",
   "metadata": {},
   "source": [
    "### Convection, central difference scheme with left inlet\n",
    "\n",
    "$2^n$ points\n",
    "\n",
    "$$\n",
    "    \\bm{A} = \n",
    "    \\dfrac{c}{2\\Delta x}\n",
    "    \\begin{bmatrix}\n",
    "    0  & 1 &   & & -1 \\\\\n",
    "    -1 & 0 & 1 & & \\\\\n",
    "       & \\ddots & \\ddots & \\ddots & \\\\\n",
    "       & & -1 & 0 & 1 \\\\\n",
    "    1  & & & -1 & 0\n",
    "    \\end{bmatrix}.\n",
    "$$"
   ]
  },
  {
   "cell_type": "code",
   "execution_count": 7,
   "metadata": {},
   "outputs": [],
   "source": [
    "AC = np.zeros((nx, nx))\n",
    "for i in range(nx-1):\n",
    "    AC[i,i+1] = 1\n",
    "    AC[i+1,i] = -1\n",
    "AC[0,-1] = -1\n",
    "AC[-1,0] = 1\n",
    "AC = AC * C / (2*dx)"
   ]
  },
  {
   "cell_type": "markdown",
   "metadata": {},
   "source": [
    "### Diffusion, central difference scheme\n",
    "\n",
    "$2^n$ points\n",
    "\n",
    "$$\n",
    "    \\bm{A} = \n",
    "    \\dfrac{D}{\\Delta x^2}\n",
    "    \\begin{bmatrix}\n",
    "    2  & -1 &   & & -1 \\\\\n",
    "    -1 & 2 & -1 & &   \\\\\n",
    "       & \\ddots & \\ddots & \\ddots & \\\\\n",
    "       & & -1 & 2 & -1 \\\\\n",
    "    -1 & & & -1 & 2  \\\\\n",
    "    \\end{bmatrix}.\n",
    "$$"
   ]
  },
  {
   "cell_type": "code",
   "execution_count": 8,
   "metadata": {},
   "outputs": [],
   "source": [
    "AD = np.zeros((nx, nx))\n",
    "for i in range(nx-1):\n",
    "    AD[i,i+1] = -1\n",
    "    AD[i+1,i] = -1\n",
    "    AD[i,i] = 2\n",
    "AD[-1,-1] = 2\n",
    "AD[0,-1] = -1\n",
    "AD[-1,0] = -1\n",
    "AD = AD * D / np.square(dx)"
   ]
  },
  {
   "cell_type": "markdown",
   "metadata": {},
   "source": [
    "### Reaction"
   ]
  },
  {
   "cell_type": "code",
   "execution_count": 9,
   "metadata": {},
   "outputs": [],
   "source": [
    "AS = np.eye(nx)\n",
    "AS *= -S"
   ]
  },
  {
   "cell_type": "code",
   "execution_count": 10,
   "metadata": {},
   "outputs": [],
   "source": [
    "A = AC + AD + AS"
   ]
  },
  {
   "cell_type": "code",
   "execution_count": 11,
   "id": "bee9b607",
   "metadata": {},
   "outputs": [],
   "source": [
    "A = np.matrix(A)\n",
    "AH = A.H\n",
    "H1 = (A+AH)/2\n",
    "H2 = (A-AH)/2"
   ]
  },
  {
   "cell_type": "code",
   "execution_count": 12,
   "metadata": {},
   "outputs": [
    {
     "data": {
      "text/plain": [
       "(0.9999999999999527+0j)"
      ]
     },
     "execution_count": 12,
     "metadata": {},
     "output_type": "execute_result"
    }
   ],
   "source": [
    "eig(H1)[0].min()"
   ]
  },
  {
   "cell_type": "markdown",
   "id": "a5b08616",
   "metadata": {},
   "source": [
    "## Simulation circuit"
   ]
  },
  {
   "cell_type": "code",
   "execution_count": 13,
   "id": "a764b3c8-4b4d-4eb1-ac64-9fef1265aa86",
   "metadata": {},
   "outputs": [],
   "source": [
    "states = []\n",
    "for i, k in enumerate(kv):\n",
    "    # initialization\n",
    "    circ_init_u = QuantumCircuit(q_u, name='Init_u')\n",
    "    circ_init_u.initialize(u0*fv[i]/np.abs(fv[i]), q_u)\n",
    "    circ_init_u_inst = circ_init_u.to_instruction()\n",
    "\n",
    "    qc = QuantumCircuit(q_u)\n",
    "    qc.append(circ_init_u_inst, q_u)\n",
    "    qc.barrier()\n",
    "\n",
    "    M = 1.j*k*H1 - H2\n",
    "    U = expm(M*t)\n",
    "    qc.append(Operator(U), q_u)\n",
    "\n",
    "    job = backend.run(transpile(qc, backend))\n",
    "    state = job.result().get_statevector(qc)\n",
    "    states.append(state)"
   ]
  },
  {
   "cell_type": "markdown",
   "id": "c0c3b8a2",
   "metadata": {},
   "source": [
    "## Result"
   ]
  },
  {
   "cell_type": "code",
   "execution_count": 14,
   "id": "6434ddee-f46b-419c-8c22-9be7801afb2c",
   "metadata": {},
   "outputs": [],
   "source": [
    "idx = 10\n",
    "soln = np.zeros(nx, dtype='complex128')\n",
    "\n",
    "for i, k in enumerate(kv):\n",
    "    soln += states[i].data * np.abs(fv[i]) * np.exp(1.j*np.pi*k*wy/2*2*(ny/2+idx)/ny)\n",
    "\n",
    "soln *= u_init_norm\n",
    "soln *= np.exp(y[int(ny/2+idx)])"
   ]
  },
  {
   "cell_type": "markdown",
   "id": "c10afc42",
   "metadata": {},
   "source": [
    "## Plot"
   ]
  },
  {
   "cell_type": "code",
   "execution_count": 17,
   "id": "d254aba9-4401-4d5b-852e-8e54db9e8188",
   "metadata": {},
   "outputs": [
    {
     "data": {
      "text/plain": [
       "[<matplotlib.axis.XTick at 0x143d10c90>,\n",
       " <matplotlib.axis.XTick at 0x143f8c390>,\n",
       " <matplotlib.axis.XTick at 0x143b01a10>,\n",
       " <matplotlib.axis.XTick at 0x143aa57d0>,\n",
       " <matplotlib.axis.XTick at 0x144099dd0>,\n",
       " <matplotlib.axis.XTick at 0x14409a990>,\n",
       " <matplotlib.axis.XTick at 0x143d1ac90>]"
      ]
     },
     "execution_count": 17,
     "metadata": {},
     "output_type": "execute_result"
    },
    {
     "data": {
      "image/png": "[encoded data removed]",
      "text/plain": [
       "<Figure size 354.331x317.717 with 1 Axes>"
      ]
     },
     "metadata": {},
     "output_type": "display_data"
    }
   ],
   "source": [
    "pc = fig.PlotConfig()\n",
    "\n",
    "figure, ax = pc.get_simple()\n",
    "\n",
    "ax.plot(x, u_init, '-.b', label='$t=0.0$')\n",
    "\n",
    "ut = np.exp(-np.square(x-mu-C*t)/(1+4*D*t)) / np.sqrt(1+4*D*t) * np.exp(S*t)\n",
    "ax.plot(x, ut, '-k', label = 'Analytic')\n",
    "\n",
    "ax.plot(x, soln.real, '--r', label='$t=2.0$ Quantum')\n",
    "\n",
    "ax.legend(frameon=False, loc='upper right')\n",
    "\n",
    "ax.set_xlabel('$x$')\n",
    "ax.set_ylabel('$\\phi$')\n",
    "\n",
    "ax.set_xlim([-L/2, L/2])\n",
    "\n",
    "ax.set_xticks(np.linspace(-L/2, L/2, num=7))"
   ]
  },
  {
   "cell_type": "code",
   "execution_count": 18,
   "metadata": {},
   "outputs": [],
   "source": [
    "#np.save('1DPeriodicDiscretizedSeparateC{:g}D{:g}S{:g}t{:.1f}L{:g}nx{:g}wy{:g}ny{:g}'.format(C,D,S,t,L,nqu,wy,nqv), soln.real)"
   ]
  }
 ],
 "metadata": {
  "kernelspec": {
   "display_name": "Python 3 (ipykernel)",
   "language": "python",
   "name": "python3"
  },
  "language_info": {
   "codemirror_mode": {
    "name": "ipython",
    "version": 3
   },
   "file_extension": ".py",
   "mimetype": "text/x-python",
   "name": "python",
   "nbconvert_exporter": "python",
   "pygments_lexer": "ipython3",
   "version": "3.11.5"
  }
 },
 "nbformat": 4,
 "nbformat_minor": 5
}
